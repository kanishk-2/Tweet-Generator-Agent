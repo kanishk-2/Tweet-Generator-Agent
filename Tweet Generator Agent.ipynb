{
  "cells": [
    {
      "cell_type": "markdown",
      "metadata": {
        "id": "pmqDc2m9G51t"
      },
      "source": [
        "Step 1: Install required packages"
      ]
    },
    {
      "cell_type": "code",
      "execution_count": 15,
      "metadata": {
        "id": "Anzcjfycv41v"
      },
      "outputs": [],
      "source": [
        "!pip install google-generativeai --quiet\n",
        "!pip install ipywidgets --quiet  # create a beautiful UI\n"
      ]
    },
    {
      "cell_type": "markdown",
      "metadata": {
        "id": "xF6xdxMRG_nv"
      },
      "source": [
        "Step 2: Import libraries"
      ]
    },
    {
      "cell_type": "code",
      "execution_count": null,
      "metadata": {
        "id": "iHX6ujljw9bl"
      },
      "outputs": [
        {
          "ename": "ModuleNotFoundError",
          "evalue": "No module named 'google.generativeai'",
          "output_type": "error",
          "traceback": [
            "\u001b[0;31m---------------------------------------------------------------------------\u001b[0m",
            "\u001b[0;31mModuleNotFoundError\u001b[0m                       Traceback (most recent call last)",
            "Cell \u001b[0;32mIn[2], line 1\u001b[0m\n\u001b[0;32m----> 1\u001b[0m \u001b[38;5;28;01mimport\u001b[39;00m \u001b[38;5;21;01mgoogle\u001b[39;00m\u001b[38;5;21;01m.\u001b[39;00m\u001b[38;5;21;01mgenerativeai\u001b[39;00m \u001b[38;5;28;01mas\u001b[39;00m \u001b[38;5;21;01mgenai\u001b[39;00m\n\u001b[1;32m      2\u001b[0m \u001b[38;5;28;01mimport\u001b[39;00m \u001b[38;5;21;01mipywidgets\u001b[39;00m \u001b[38;5;28;01mas\u001b[39;00m \u001b[38;5;21;01mwidgets\u001b[39;00m\n\u001b[1;32m      3\u001b[0m \u001b[38;5;28;01mfrom\u001b[39;00m \u001b[38;5;21;01mIPython\u001b[39;00m\u001b[38;5;21;01m.\u001b[39;00m\u001b[38;5;21;01mdisplay\u001b[39;00m \u001b[38;5;28;01mimport\u001b[39;00m display, Markdown\n",
            "\u001b[0;31mModuleNotFoundError\u001b[0m: No module named 'google.generativeai'"
          ]
        }
      ],
      "source": [
        "import google.generativeai as genai\n",
        "import ipywidgets as widgets\n",
        "from IPython.display import display, Markdown"
      ]
    },
    {
      "cell_type": "markdown",
      "metadata": {
        "id": "O_ASCfqbHCCx"
      },
      "source": [
        "Step 3: Set up Gemini API"
      ]
    },
    {
      "cell_type": "code",
      "execution_count": null,
      "metadata": {
        "id": "UQ0fkmdfxWWH"
      },
      "outputs": [
        {
          "ename": "NameError",
          "evalue": "name 'genai' is not defined",
          "output_type": "error",
          "traceback": [
            "\u001b[0;31m---------------------------------------------------------------------------\u001b[0m",
            "\u001b[0;31mNameError\u001b[0m                                 Traceback (most recent call last)",
            "Cell \u001b[0;32mIn[1], line 2\u001b[0m\n\u001b[1;32m      1\u001b[0m API_KEY \u001b[38;5;241m=\u001b[39m \u001b[38;5;124m\"\u001b[39m\u001b[38;5;124m 🫵  \u001b[39m\u001b[38;5;124m\"\u001b[39m\n\u001b[0;32m----> 2\u001b[0m genai\u001b[38;5;241m.\u001b[39mconfigure(api_key\u001b[38;5;241m=\u001b[39mAPI_KEY)\n\u001b[1;32m      4\u001b[0m model \u001b[38;5;241m=\u001b[39m genai\u001b[38;5;241m.\u001b[39mGenerativeModel(\u001b[38;5;124m\"\u001b[39m\u001b[38;5;124mgemini-2.5-flash\u001b[39m\u001b[38;5;124m\"\u001b[39m)\n",
            "\u001b[0;31mNameError\u001b[0m: name 'genai' is not defined"
          ]
        }
      ],
      "source": [
        "API_KEY = \" Enter your API key here \" # Replace with your actual gemini API key\n",
        "genai.configure(api_key=API_KEY)\n",
        "\n",
        "model = genai.GenerativeModel(\"gemini-2.5-flash\")\n"
      ]
    },
    {
      "cell_type": "markdown",
      "metadata": {
        "id": "6U4nkTanHF0M"
      },
      "source": [
        "Step 4: Define the input form"
      ]
    },
    {
      "cell_type": "code",
      "execution_count": 18,
      "metadata": {
        "id": "bTzNRzwkyqh3"
      },
      "outputs": [],
      "source": [
        "import ipywidgets as widgets\n",
        "from IPython.display import display\n",
        "\n",
        "# Topic input\n",
        "topic_input = widgets.Text(\n",
        "    description=\"Topic:\",\n",
        "    placeholder=\"e.g., AI in education\",\n",
        "    layout=widgets.Layout(width='400px')\n",
        ")\n",
        "\n",
        "# Tone dropdown\n",
        "tone_input = widgets.Dropdown(\n",
        "    options=['Professional', 'Casual', 'Witty', 'Motivational'],\n",
        "    value='Professional',\n",
        "    description='Tone:'\n",
        ")\n",
        "\n",
        "# Hashtag input\n",
        "hashtag_input = widgets.Text(\n",
        "    description=\"Hashtags:\",\n",
        "    placeholder=\"#AI #EdTech\",\n",
        "    layout=widgets.Layout(width='400px')\n",
        ")\n",
        "\n",
        "# Audience input\n",
        "audience_input = widgets.Text(\n",
        "    description=\"Audience:\",\n",
        "    placeholder=\"e.g., students, educators, tech enthusiasts\",\n",
        "    layout=widgets.Layout(width='400px')\n",
        ")\n",
        "\n",
        "# Submit button\n",
        "submit_button = widgets.Button(\n",
        "    description='Generate Tweet',\n",
        "    button_style='success',\n",
        "    tooltip='Click to generate tweet'\n",
        ")\n",
        "\n",
        "# Output display\n",
        "output = widgets.Output()\n"
      ]
    },
    {
      "cell_type": "markdown",
      "metadata": {
        "id": "J4m4aGgSHIOm"
      },
      "source": [
        "Step 5: Generate Tweet Function"
      ]
    },
    {
      "cell_type": "code",
      "execution_count": 19,
      "metadata": {
        "id": "iHGzDDu_vQDm"
      },
      "outputs": [],
      "source": [
        "def generate_tweet(b):\n",
        "    output.clear_output()\n",
        "\n",
        "    prompt = f\"\"\"\n",
        "You are an expert Content Writer.\n",
        "Generate a tweet about the topic: \"{topic_input.value}\".\n",
        "Use a {tone_input.value.lower()} tone.\n",
        "Generate tweet for the target audience: {audience_input.value}.\n",
        "Include these hashtags: {hashtag_input.value}.\n",
        "Keep it under 288 characters.\n",
        "\"\"\"\n",
        "\n",
        "    with output:\n",
        "        try:\n",
        "            response = model.generate_content(prompt)\n",
        "            tweet = response.text.strip()\n",
        "            display(Markdown(f\"### Generated Tweet:\\n\\n{tweet}\"))\n",
        "        except Exception as e:\n",
        "            print(\"Error:\", e)\n",
        "\n",
        "submit_button.on_click(generate_tweet)\n"
      ]
    },
    {
      "cell_type": "markdown",
      "metadata": {
        "id": "pRaayOW-HSWY"
      },
      "source": [
        "Step 6: Display the form"
      ]
    },
    {
      "cell_type": "code",
      "execution_count": 20,
      "metadata": {
        "colab": {
          "base_uri": "https://localhost:8080/",
          "height": 314,
          "referenced_widgets": [
            "cddff2dd74e145de8adfa71a58989a1e",
            "d4747e1a9035499ea8c161cd758de1a7",
            "fd95eadda23447e3b4c176c92ce3be07",
            "9d19fc3e134043908718b546b0bf6e7b",
            "edf9043d2e914a988cbd4afaed7ee3a1",
            "8823f4d2217a45eca534aa2d8bf571e5",
            "3b3c6ad2a05a4e6f91c20c2e977d0075",
            "b5a8523ed1e54fac90f524eb9cb4dbce",
            "a3d20081c27f43139104ba2758b613d2",
            "63b0c3972d604e54b0b465d4bfbdfa62",
            "02aac8b1289b4db2b99730e85294100c",
            "dadce92c499b49308884561f2ad80859",
            "da43eff3c5044de8b9c707c4adea13e6",
            "9e74b18c1ef1464c8c9fdaee7b617bc8",
            "255def2ff0f84e00bf9a516c58bb1664",
            "086bfde5925242c0a0b1caa7f06330b6",
            "57ead3ddc44e464596ea7c1cf46feb89",
            "1c061f1218574146a9ca620ad5d07a4b",
            "4e256daca6684ebb96b62c397287ca2b",
            "6a152bdf24684d8ab1c90d6167b6a6d1",
            "a9658a0003a440a08b5c96572e924df2",
            "8a5f7733ad93407e9dead934545ae4db"
          ]
        },
        "id": "1KkjlgTRzITC",
        "outputId": "c15b803e-dfe3-4b9d-c078-1d525ff6c6fb"
      },
      "outputs": [
        {
          "data": {
            "application/vnd.jupyter.widget-view+json": {
              "model_id": "cddff2dd74e145de8adfa71a58989a1e",
              "version_major": 2,
              "version_minor": 0
            },
            "text/plain": [
              "VBox(children=(HTML(value='<h3>Tweet Generator Agent</h3>'), Text(value='', description='Topic:', layout=Layou…"
            ]
          },
          "metadata": {},
          "output_type": "display_data"
        }
      ],
      "source": [
        "form = widgets.VBox([\n",
        "    widgets.HTML(value=\"<h3>Tweet Generator Agent</h3>\"),\n",
        "    topic_input,\n",
        "    tone_input,\n",
        "    audience_input,\n",
        "    hashtag_input,\n",
        "    submit_button,\n",
        "    output\n",
        "])\n",
        "\n",
        "display(form)\n"
      ]
    }
  ],
  "metadata": {
    "colab": {
      "provenance": []
    },
    "kernelspec": {
      "display_name": "base",
      "language": "python",
      "name": "python3"
    },
    "language_info": {
      "codemirror_mode": {
        "name": "ipython",
        "version": 3
      },
      "file_extension": ".py",
      "mimetype": "text/x-python",
      "name": "python",
      "nbconvert_exporter": "python",
      "pygments_lexer": "ipython3",
      "version": "3.12.2"
    },
    "widgets": {
      "application/vnd.jupyter.widget-state+json": {
        "02aac8b1289b4db2b99730e85294100c": {
          "model_module": "@jupyter-widgets/controls",
          "model_module_version": "1.5.0",
          "model_name": "DescriptionStyleModel",
          "state": {
            "_model_module": "@jupyter-widgets/controls",
            "_model_module_version": "1.5.0",
            "_model_name": "DescriptionStyleModel",
            "_view_count": null,
            "_view_module": "@jupyter-widgets/base",
            "_view_module_version": "1.2.0",
            "_view_name": "StyleView",
            "description_width": ""
          }
        },
        "086bfde5925242c0a0b1caa7f06330b6": {
          "model_module": "@jupyter-widgets/base",
          "model_module_version": "1.2.0",
          "model_name": "LayoutModel",
          "state": {
            "_model_module": "@jupyter-widgets/base",
            "_model_module_version": "1.2.0",
            "_model_name": "LayoutModel",
            "_view_count": null,
            "_view_module": "@jupyter-widgets/base",
            "_view_module_version": "1.2.0",
            "_view_name": "LayoutView",
            "align_content": null,
            "align_items": null,
            "align_self": null,
            "border": null,
            "bottom": null,
            "display": null,
            "flex": null,
            "flex_flow": null,
            "grid_area": null,
            "grid_auto_columns": null,
            "grid_auto_flow": null,
            "grid_auto_rows": null,
            "grid_column": null,
            "grid_gap": null,
            "grid_row": null,
            "grid_template_areas": null,
            "grid_template_columns": null,
            "grid_template_rows": null,
            "height": null,
            "justify_content": null,
            "justify_items": null,
            "left": null,
            "margin": null,
            "max_height": null,
            "max_width": null,
            "min_height": null,
            "min_width": null,
            "object_fit": null,
            "object_position": null,
            "order": null,
            "overflow": null,
            "overflow_x": null,
            "overflow_y": null,
            "padding": null,
            "right": null,
            "top": null,
            "visibility": null,
            "width": "400px"
          }
        },
        "1c061f1218574146a9ca620ad5d07a4b": {
          "model_module": "@jupyter-widgets/base",
          "model_module_version": "1.2.0",
          "model_name": "LayoutModel",
          "state": {
            "_model_module": "@jupyter-widgets/base",
            "_model_module_version": "1.2.0",
            "_model_name": "LayoutModel",
            "_view_count": null,
            "_view_module": "@jupyter-widgets/base",
            "_view_module_version": "1.2.0",
            "_view_name": "LayoutView",
            "align_content": null,
            "align_items": null,
            "align_self": null,
            "border": null,
            "bottom": null,
            "display": null,
            "flex": null,
            "flex_flow": null,
            "grid_area": null,
            "grid_auto_columns": null,
            "grid_auto_flow": null,
            "grid_auto_rows": null,
            "grid_column": null,
            "grid_gap": null,
            "grid_row": null,
            "grid_template_areas": null,
            "grid_template_columns": null,
            "grid_template_rows": null,
            "height": null,
            "justify_content": null,
            "justify_items": null,
            "left": null,
            "margin": null,
            "max_height": null,
            "max_width": null,
            "min_height": null,
            "min_width": null,
            "object_fit": null,
            "object_position": null,
            "order": null,
            "overflow": null,
            "overflow_x": null,
            "overflow_y": null,
            "padding": null,
            "right": null,
            "top": null,
            "visibility": null,
            "width": "400px"
          }
        },
        "255def2ff0f84e00bf9a516c58bb1664": {
          "model_module": "@jupyter-widgets/controls",
          "model_module_version": "1.5.0",
          "model_name": "DescriptionStyleModel",
          "state": {
            "_model_module": "@jupyter-widgets/controls",
            "_model_module_version": "1.5.0",
            "_model_name": "DescriptionStyleModel",
            "_view_count": null,
            "_view_module": "@jupyter-widgets/base",
            "_view_module_version": "1.2.0",
            "_view_name": "StyleView",
            "description_width": ""
          }
        },
        "3b3c6ad2a05a4e6f91c20c2e977d0075": {
          "model_module": "@jupyter-widgets/controls",
          "model_module_version": "1.5.0",
          "model_name": "ButtonModel",
          "state": {
            "_dom_classes": [],
            "_model_module": "@jupyter-widgets/controls",
            "_model_module_version": "1.5.0",
            "_model_name": "ButtonModel",
            "_view_count": null,
            "_view_module": "@jupyter-widgets/controls",
            "_view_module_version": "1.5.0",
            "_view_name": "ButtonView",
            "button_style": "success",
            "description": "Generate Tweet",
            "disabled": false,
            "icon": "",
            "layout": "IPY_MODEL_6a152bdf24684d8ab1c90d6167b6a6d1",
            "style": "IPY_MODEL_a9658a0003a440a08b5c96572e924df2",
            "tooltip": "Click to generate tweet"
          }
        },
        "4e256daca6684ebb96b62c397287ca2b": {
          "model_module": "@jupyter-widgets/controls",
          "model_module_version": "1.5.0",
          "model_name": "DescriptionStyleModel",
          "state": {
            "_model_module": "@jupyter-widgets/controls",
            "_model_module_version": "1.5.0",
            "_model_name": "DescriptionStyleModel",
            "_view_count": null,
            "_view_module": "@jupyter-widgets/base",
            "_view_module_version": "1.2.0",
            "_view_name": "StyleView",
            "description_width": ""
          }
        },
        "57ead3ddc44e464596ea7c1cf46feb89": {
          "model_module": "@jupyter-widgets/controls",
          "model_module_version": "1.5.0",
          "model_name": "DescriptionStyleModel",
          "state": {
            "_model_module": "@jupyter-widgets/controls",
            "_model_module_version": "1.5.0",
            "_model_name": "DescriptionStyleModel",
            "_view_count": null,
            "_view_module": "@jupyter-widgets/base",
            "_view_module_version": "1.2.0",
            "_view_name": "StyleView",
            "description_width": ""
          }
        },
        "63b0c3972d604e54b0b465d4bfbdfa62": {
          "model_module": "@jupyter-widgets/base",
          "model_module_version": "1.2.0",
          "model_name": "LayoutModel",
          "state": {
            "_model_module": "@jupyter-widgets/base",
            "_model_module_version": "1.2.0",
            "_model_name": "LayoutModel",
            "_view_count": null,
            "_view_module": "@jupyter-widgets/base",
            "_view_module_version": "1.2.0",
            "_view_name": "LayoutView",
            "align_content": null,
            "align_items": null,
            "align_self": null,
            "border": null,
            "bottom": null,
            "display": null,
            "flex": null,
            "flex_flow": null,
            "grid_area": null,
            "grid_auto_columns": null,
            "grid_auto_flow": null,
            "grid_auto_rows": null,
            "grid_column": null,
            "grid_gap": null,
            "grid_row": null,
            "grid_template_areas": null,
            "grid_template_columns": null,
            "grid_template_rows": null,
            "height": null,
            "justify_content": null,
            "justify_items": null,
            "left": null,
            "margin": null,
            "max_height": null,
            "max_width": null,
            "min_height": null,
            "min_width": null,
            "object_fit": null,
            "object_position": null,
            "order": null,
            "overflow": null,
            "overflow_x": null,
            "overflow_y": null,
            "padding": null,
            "right": null,
            "top": null,
            "visibility": null,
            "width": null
          }
        },
        "6a152bdf24684d8ab1c90d6167b6a6d1": {
          "model_module": "@jupyter-widgets/base",
          "model_module_version": "1.2.0",
          "model_name": "LayoutModel",
          "state": {
            "_model_module": "@jupyter-widgets/base",
            "_model_module_version": "1.2.0",
            "_model_name": "LayoutModel",
            "_view_count": null,
            "_view_module": "@jupyter-widgets/base",
            "_view_module_version": "1.2.0",
            "_view_name": "LayoutView",
            "align_content": null,
            "align_items": null,
            "align_self": null,
            "border": null,
            "bottom": null,
            "display": null,
            "flex": null,
            "flex_flow": null,
            "grid_area": null,
            "grid_auto_columns": null,
            "grid_auto_flow": null,
            "grid_auto_rows": null,
            "grid_column": null,
            "grid_gap": null,
            "grid_row": null,
            "grid_template_areas": null,
            "grid_template_columns": null,
            "grid_template_rows": null,
            "height": null,
            "justify_content": null,
            "justify_items": null,
            "left": null,
            "margin": null,
            "max_height": null,
            "max_width": null,
            "min_height": null,
            "min_width": null,
            "object_fit": null,
            "object_position": null,
            "order": null,
            "overflow": null,
            "overflow_x": null,
            "overflow_y": null,
            "padding": null,
            "right": null,
            "top": null,
            "visibility": null,
            "width": null
          }
        },
        "8823f4d2217a45eca534aa2d8bf571e5": {
          "model_module": "@jupyter-widgets/controls",
          "model_module_version": "1.5.0",
          "model_name": "TextModel",
          "state": {
            "_dom_classes": [],
            "_model_module": "@jupyter-widgets/controls",
            "_model_module_version": "1.5.0",
            "_model_name": "TextModel",
            "_view_count": null,
            "_view_module": "@jupyter-widgets/controls",
            "_view_module_version": "1.5.0",
            "_view_name": "TextView",
            "continuous_update": true,
            "description": "Hashtags:",
            "description_tooltip": null,
            "disabled": false,
            "layout": "IPY_MODEL_1c061f1218574146a9ca620ad5d07a4b",
            "placeholder": "#AI #EdTech",
            "style": "IPY_MODEL_4e256daca6684ebb96b62c397287ca2b",
            "value": "#Ai #edtech"
          }
        },
        "8a5f7733ad93407e9dead934545ae4db": {
          "model_module": "@jupyter-widgets/base",
          "model_module_version": "1.2.0",
          "model_name": "LayoutModel",
          "state": {
            "_model_module": "@jupyter-widgets/base",
            "_model_module_version": "1.2.0",
            "_model_name": "LayoutModel",
            "_view_count": null,
            "_view_module": "@jupyter-widgets/base",
            "_view_module_version": "1.2.0",
            "_view_name": "LayoutView",
            "align_content": null,
            "align_items": null,
            "align_self": null,
            "border": null,
            "bottom": null,
            "display": null,
            "flex": null,
            "flex_flow": null,
            "grid_area": null,
            "grid_auto_columns": null,
            "grid_auto_flow": null,
            "grid_auto_rows": null,
            "grid_column": null,
            "grid_gap": null,
            "grid_row": null,
            "grid_template_areas": null,
            "grid_template_columns": null,
            "grid_template_rows": null,
            "height": null,
            "justify_content": null,
            "justify_items": null,
            "left": null,
            "margin": null,
            "max_height": null,
            "max_width": null,
            "min_height": null,
            "min_width": null,
            "object_fit": null,
            "object_position": null,
            "order": null,
            "overflow": null,
            "overflow_x": null,
            "overflow_y": null,
            "padding": null,
            "right": null,
            "top": null,
            "visibility": null,
            "width": null
          }
        },
        "9d19fc3e134043908718b546b0bf6e7b": {
          "model_module": "@jupyter-widgets/controls",
          "model_module_version": "1.5.0",
          "model_name": "DropdownModel",
          "state": {
            "_dom_classes": [],
            "_model_module": "@jupyter-widgets/controls",
            "_model_module_version": "1.5.0",
            "_model_name": "DropdownModel",
            "_options_labels": [
              "Professional",
              "Casual",
              "Witty",
              "Motivational"
            ],
            "_view_count": null,
            "_view_module": "@jupyter-widgets/controls",
            "_view_module_version": "1.5.0",
            "_view_name": "DropdownView",
            "description": "Tone:",
            "description_tooltip": null,
            "disabled": false,
            "index": 0,
            "layout": "IPY_MODEL_9e74b18c1ef1464c8c9fdaee7b617bc8",
            "style": "IPY_MODEL_255def2ff0f84e00bf9a516c58bb1664"
          }
        },
        "9e74b18c1ef1464c8c9fdaee7b617bc8": {
          "model_module": "@jupyter-widgets/base",
          "model_module_version": "1.2.0",
          "model_name": "LayoutModel",
          "state": {
            "_model_module": "@jupyter-widgets/base",
            "_model_module_version": "1.2.0",
            "_model_name": "LayoutModel",
            "_view_count": null,
            "_view_module": "@jupyter-widgets/base",
            "_view_module_version": "1.2.0",
            "_view_name": "LayoutView",
            "align_content": null,
            "align_items": null,
            "align_self": null,
            "border": null,
            "bottom": null,
            "display": null,
            "flex": null,
            "flex_flow": null,
            "grid_area": null,
            "grid_auto_columns": null,
            "grid_auto_flow": null,
            "grid_auto_rows": null,
            "grid_column": null,
            "grid_gap": null,
            "grid_row": null,
            "grid_template_areas": null,
            "grid_template_columns": null,
            "grid_template_rows": null,
            "height": null,
            "justify_content": null,
            "justify_items": null,
            "left": null,
            "margin": null,
            "max_height": null,
            "max_width": null,
            "min_height": null,
            "min_width": null,
            "object_fit": null,
            "object_position": null,
            "order": null,
            "overflow": null,
            "overflow_x": null,
            "overflow_y": null,
            "padding": null,
            "right": null,
            "top": null,
            "visibility": null,
            "width": null
          }
        },
        "a3d20081c27f43139104ba2758b613d2": {
          "model_module": "@jupyter-widgets/base",
          "model_module_version": "1.2.0",
          "model_name": "LayoutModel",
          "state": {
            "_model_module": "@jupyter-widgets/base",
            "_model_module_version": "1.2.0",
            "_model_name": "LayoutModel",
            "_view_count": null,
            "_view_module": "@jupyter-widgets/base",
            "_view_module_version": "1.2.0",
            "_view_name": "LayoutView",
            "align_content": null,
            "align_items": null,
            "align_self": null,
            "border": null,
            "bottom": null,
            "display": null,
            "flex": null,
            "flex_flow": null,
            "grid_area": null,
            "grid_auto_columns": null,
            "grid_auto_flow": null,
            "grid_auto_rows": null,
            "grid_column": null,
            "grid_gap": null,
            "grid_row": null,
            "grid_template_areas": null,
            "grid_template_columns": null,
            "grid_template_rows": null,
            "height": null,
            "justify_content": null,
            "justify_items": null,
            "left": null,
            "margin": null,
            "max_height": null,
            "max_width": null,
            "min_height": null,
            "min_width": null,
            "object_fit": null,
            "object_position": null,
            "order": null,
            "overflow": null,
            "overflow_x": null,
            "overflow_y": null,
            "padding": null,
            "right": null,
            "top": null,
            "visibility": null,
            "width": null
          }
        },
        "a9658a0003a440a08b5c96572e924df2": {
          "model_module": "@jupyter-widgets/controls",
          "model_module_version": "1.5.0",
          "model_name": "ButtonStyleModel",
          "state": {
            "_model_module": "@jupyter-widgets/controls",
            "_model_module_version": "1.5.0",
            "_model_name": "ButtonStyleModel",
            "_view_count": null,
            "_view_module": "@jupyter-widgets/base",
            "_view_module_version": "1.2.0",
            "_view_name": "StyleView",
            "button_color": null,
            "font_weight": ""
          }
        },
        "b5a8523ed1e54fac90f524eb9cb4dbce": {
          "model_module": "@jupyter-widgets/output",
          "model_module_version": "1.0.0",
          "model_name": "OutputModel",
          "state": {
            "_dom_classes": [],
            "_model_module": "@jupyter-widgets/output",
            "_model_module_version": "1.0.0",
            "_model_name": "OutputModel",
            "_view_count": null,
            "_view_module": "@jupyter-widgets/output",
            "_view_module_version": "1.0.0",
            "_view_name": "OutputView",
            "layout": "IPY_MODEL_8a5f7733ad93407e9dead934545ae4db",
            "msg_id": "",
            "outputs": [
              {
                "data": {
                  "text/markdown": "### Generated Tweet:\n\nExploring Agentic AI: systems designed to act autonomously toward goals. This development holds significant potential for innovation & efficiency across all sectors, including the future of learning & personalized education. #Ai #edtech",
                  "text/plain": "<IPython.core.display.Markdown object>"
                },
                "metadata": {},
                "output_type": "display_data"
              }
            ]
          }
        },
        "cddff2dd74e145de8adfa71a58989a1e": {
          "model_module": "@jupyter-widgets/controls",
          "model_module_version": "1.5.0",
          "model_name": "VBoxModel",
          "state": {
            "_dom_classes": [],
            "_model_module": "@jupyter-widgets/controls",
            "_model_module_version": "1.5.0",
            "_model_name": "VBoxModel",
            "_view_count": null,
            "_view_module": "@jupyter-widgets/controls",
            "_view_module_version": "1.5.0",
            "_view_name": "VBoxView",
            "box_style": "",
            "children": [
              "IPY_MODEL_d4747e1a9035499ea8c161cd758de1a7",
              "IPY_MODEL_fd95eadda23447e3b4c176c92ce3be07",
              "IPY_MODEL_9d19fc3e134043908718b546b0bf6e7b",
              "IPY_MODEL_edf9043d2e914a988cbd4afaed7ee3a1",
              "IPY_MODEL_8823f4d2217a45eca534aa2d8bf571e5",
              "IPY_MODEL_3b3c6ad2a05a4e6f91c20c2e977d0075",
              "IPY_MODEL_b5a8523ed1e54fac90f524eb9cb4dbce"
            ],
            "layout": "IPY_MODEL_a3d20081c27f43139104ba2758b613d2"
          }
        },
        "d4747e1a9035499ea8c161cd758de1a7": {
          "model_module": "@jupyter-widgets/controls",
          "model_module_version": "1.5.0",
          "model_name": "HTMLModel",
          "state": {
            "_dom_classes": [],
            "_model_module": "@jupyter-widgets/controls",
            "_model_module_version": "1.5.0",
            "_model_name": "HTMLModel",
            "_view_count": null,
            "_view_module": "@jupyter-widgets/controls",
            "_view_module_version": "1.5.0",
            "_view_name": "HTMLView",
            "description": "",
            "description_tooltip": null,
            "layout": "IPY_MODEL_63b0c3972d604e54b0b465d4bfbdfa62",
            "placeholder": "​",
            "style": "IPY_MODEL_02aac8b1289b4db2b99730e85294100c",
            "value": "<h3>Tweet Generator Agent</h3>"
          }
        },
        "da43eff3c5044de8b9c707c4adea13e6": {
          "model_module": "@jupyter-widgets/controls",
          "model_module_version": "1.5.0",
          "model_name": "DescriptionStyleModel",
          "state": {
            "_model_module": "@jupyter-widgets/controls",
            "_model_module_version": "1.5.0",
            "_model_name": "DescriptionStyleModel",
            "_view_count": null,
            "_view_module": "@jupyter-widgets/base",
            "_view_module_version": "1.2.0",
            "_view_name": "StyleView",
            "description_width": ""
          }
        },
        "dadce92c499b49308884561f2ad80859": {
          "model_module": "@jupyter-widgets/base",
          "model_module_version": "1.2.0",
          "model_name": "LayoutModel",
          "state": {
            "_model_module": "@jupyter-widgets/base",
            "_model_module_version": "1.2.0",
            "_model_name": "LayoutModel",
            "_view_count": null,
            "_view_module": "@jupyter-widgets/base",
            "_view_module_version": "1.2.0",
            "_view_name": "LayoutView",
            "align_content": null,
            "align_items": null,
            "align_self": null,
            "border": null,
            "bottom": null,
            "display": null,
            "flex": null,
            "flex_flow": null,
            "grid_area": null,
            "grid_auto_columns": null,
            "grid_auto_flow": null,
            "grid_auto_rows": null,
            "grid_column": null,
            "grid_gap": null,
            "grid_row": null,
            "grid_template_areas": null,
            "grid_template_columns": null,
            "grid_template_rows": null,
            "height": null,
            "justify_content": null,
            "justify_items": null,
            "left": null,
            "margin": null,
            "max_height": null,
            "max_width": null,
            "min_height": null,
            "min_width": null,
            "object_fit": null,
            "object_position": null,
            "order": null,
            "overflow": null,
            "overflow_x": null,
            "overflow_y": null,
            "padding": null,
            "right": null,
            "top": null,
            "visibility": null,
            "width": "400px"
          }
        },
        "edf9043d2e914a988cbd4afaed7ee3a1": {
          "model_module": "@jupyter-widgets/controls",
          "model_module_version": "1.5.0",
          "model_name": "TextModel",
          "state": {
            "_dom_classes": [],
            "_model_module": "@jupyter-widgets/controls",
            "_model_module_version": "1.5.0",
            "_model_name": "TextModel",
            "_view_count": null,
            "_view_module": "@jupyter-widgets/controls",
            "_view_module_version": "1.5.0",
            "_view_name": "TextView",
            "continuous_update": true,
            "description": "Audience:",
            "description_tooltip": null,
            "disabled": false,
            "layout": "IPY_MODEL_086bfde5925242c0a0b1caa7f06330b6",
            "placeholder": "e.g., students, educators, tech enthusiasts",
            "style": "IPY_MODEL_57ead3ddc44e464596ea7c1cf46feb89",
            "value": "everyone"
          }
        },
        "fd95eadda23447e3b4c176c92ce3be07": {
          "model_module": "@jupyter-widgets/controls",
          "model_module_version": "1.5.0",
          "model_name": "TextModel",
          "state": {
            "_dom_classes": [],
            "_model_module": "@jupyter-widgets/controls",
            "_model_module_version": "1.5.0",
            "_model_name": "TextModel",
            "_view_count": null,
            "_view_module": "@jupyter-widgets/controls",
            "_view_module_version": "1.5.0",
            "_view_name": "TextView",
            "continuous_update": true,
            "description": "Topic:",
            "description_tooltip": null,
            "disabled": false,
            "layout": "IPY_MODEL_dadce92c499b49308884561f2ad80859",
            "placeholder": "e.g., AI in education",
            "style": "IPY_MODEL_da43eff3c5044de8b9c707c4adea13e6",
            "value": "Agentic AI "
          }
        }
      }
    }
  },
  "nbformat": 4,
  "nbformat_minor": 0
}
